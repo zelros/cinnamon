{
 "cells": [
  {
   "cell_type": "code",
   "execution_count": null,
   "id": "52e27f10",
   "metadata": {},
   "outputs": [],
   "source": [
    "import pandas as pd\n",
    "from sklearn import datasets\n",
    "from sklearn.model_selection import train_test_split\n",
    "from xgboost import XGBRegressor\n",
    "\n",
    "from cinnamon.drift import ModelDriftExplainer, AdversarialDriftExplainer\n",
    "\n",
    "RANDOM_SEED = 2021"
   ]
  },
  {
   "cell_type": "markdown",
   "id": "77b0c4b7",
   "metadata": {},
   "source": [
    "# Boston Housing Data"
   ]
  },
  {
   "cell_type": "code",
   "execution_count": null,
   "id": "1ac4bce2",
   "metadata": {},
   "outputs": [],
   "source": [
    "boston = datasets.load_boston()"
   ]
  },
  {
   "cell_type": "code",
   "execution_count": null,
   "id": "68e500b2",
   "metadata": {},
   "outputs": [],
   "source": [
    "boston_df = pd.DataFrame(boston.data, columns=boston.feature_names)"
   ]
  },
  {
   "cell_type": "code",
   "execution_count": null,
   "id": "1e3f78a4",
   "metadata": {},
   "outputs": [],
   "source": [
    "boston_df.head()"
   ]
  },
  {
   "cell_type": "code",
   "execution_count": null,
   "id": "17045336",
   "metadata": {},
   "outputs": [],
   "source": [
    "boston_df.shape"
   ]
  },
  {
   "cell_type": "markdown",
   "id": "a890efc5",
   "metadata": {},
   "source": [
    "# Build XGBoost model"
   ]
  },
  {
   "cell_type": "code",
   "execution_count": null,
   "id": "b950476c",
   "metadata": {},
   "outputs": [],
   "source": [
    "X_train, X_test, y_train, y_test = train_test_split(boston_df, boston.target, test_size=0.3, random_state=RANDOM_SEED)"
   ]
  },
  {
   "cell_type": "code",
   "execution_count": null,
   "id": "621aa207",
   "metadata": {},
   "outputs": [],
   "source": [
    "model = XGBRegressor(n_estimators=1000,\n",
    "                   booster=\"gbtree\",\n",
    "                   objective=\"reg:squarederror\",\n",
    "                   learning_rate=0.05,\n",
    "                   max_depth=6,\n",
    "                   seed=RANDOM_SEED,\n",
    "                   use_label_encoder=False)"
   ]
  },
  {
   "cell_type": "code",
   "execution_count": null,
   "id": "4f6d0ca3",
   "metadata": {},
   "outputs": [],
   "source": [
    "model.fit(X=X_train, y=y_train, eval_set=[(X_test, y_test)], early_stopping_rounds=20, verbose=10)"
   ]
  },
  {
   "cell_type": "markdown",
   "id": "23174b96",
   "metadata": {},
   "source": [
    "# ModelDriftExplainer\n",
    "\n",
    "The experiment is done with a random split so we should not detect a data drift"
   ]
  },
  {
   "cell_type": "code",
   "execution_count": null,
   "id": "10f62e94",
   "metadata": {},
   "outputs": [],
   "source": [
    "drift_explainer = ModelDriftExplainer(model)"
   ]
  },
  {
   "cell_type": "code",
   "execution_count": null,
   "id": "790420be",
   "metadata": {},
   "outputs": [],
   "source": [
    "drift_explainer.fit(X_train, X_test, y_train, y_test)"
   ]
  },
  {
   "cell_type": "code",
   "execution_count": null,
   "id": "4b9103c0",
   "metadata": {},
   "outputs": [],
   "source": [
    "# no apparent drift in distributions of predictions\n",
    "drift_explainer.plot_prediction_drift()\n",
    "drift_explainer.get_prediction_drift()"
   ]
  },
  {
   "cell_type": "code",
   "execution_count": null,
   "id": "fc1fb0e0",
   "metadata": {},
   "outputs": [],
   "source": [
    "# no apparent drift in distributions of target labels\n",
    "drift_explainer.plot_target_drift()\n",
    "drift_explainer.get_target_drift()"
   ]
  },
  {
   "cell_type": "code",
   "execution_count": null,
   "id": "fff895fb",
   "metadata": {},
   "outputs": [],
   "source": [
    "# here we would detect a data drift but the difference in performance metrics\n",
    "# is due to comparing train and test dataset\n",
    "drift_explainer.get_performance_metrics_drift()"
   ]
  },
  {
   "cell_type": "code",
   "execution_count": null,
   "id": "93a40e55",
   "metadata": {},
   "outputs": [],
   "source": [
    "# plot drift values computed with the tree based approach\n",
    "drift_explainer.plot_tree_based_drift_values(type='node_size')\n",
    "drift_explainer.get_tree_based_drift_values(type='node_size')"
   ]
  },
  {
   "cell_type": "code",
   "execution_count": null,
   "id": "00492cba",
   "metadata": {},
   "outputs": [],
   "source": [
    "# no apparent drift for LSTAT the first feature indicated by drift values\n",
    "drift_explainer.plot_feature_drift('LSTAT')\n",
    "drift_explainer.get_feature_drift('LSTAT')"
   ]
  },
  {
   "cell_type": "code",
   "execution_count": null,
   "id": "bd3735a0",
   "metadata": {},
   "outputs": [],
   "source": [
    "drift_explainer.get_feature_drift(0)"
   ]
  },
  {
   "cell_type": "code",
   "execution_count": null,
   "id": "0e895cfa",
   "metadata": {},
   "outputs": [],
   "source": [
    "drift_explainer.get_feature_drifts()"
   ]
  },
  {
   "cell_type": "markdown",
   "id": "b6ad20dc",
   "metadata": {},
   "source": [
    "# AdversarialDriftExplainer"
   ]
  },
  {
   "cell_type": "code",
   "execution_count": null,
   "id": "0d706a3d",
   "metadata": {},
   "outputs": [],
   "source": [
    "# logs corresponds training logs of adversarial classifiers\n",
    "drift_explainer2 = AdversarialDriftExplainer(seed=RANDOM_SEED).fit(X_train, X_test, y_train, y_test)"
   ]
  },
  {
   "cell_type": "code",
   "execution_count": null,
   "id": "1839ccf9",
   "metadata": {},
   "outputs": [],
   "source": [
    "# plot drift values computed with the adversarial approach\n",
    "drift_explainer2.plot_adversarial_drift_values()\n",
    "drift_explainer2.get_adversarial_drift_values()"
   ]
  },
  {
   "cell_type": "code",
   "execution_count": null,
   "id": "d922c4fe",
   "metadata": {},
   "outputs": [],
   "source": [
    "drift_explainer2.get_feature_drifts()"
   ]
  },
  {
   "cell_type": "code",
   "execution_count": null,
   "id": "a32c4400",
   "metadata": {},
   "outputs": [],
   "source": [
    "drift_explainer2.get_feature_drift('LSTAT')"
   ]
  },
  {
   "cell_type": "code",
   "execution_count": null,
   "id": "10e4a1ef",
   "metadata": {},
   "outputs": [],
   "source": [
    "drift_explainer2.get_feature_drift(0)"
   ]
  },
  {
   "cell_type": "code",
   "execution_count": null,
   "id": "eb1e35e2",
   "metadata": {},
   "outputs": [],
   "source": []
  }
 ],
 "metadata": {
  "kernelspec": {
   "display_name": "Python 3 (ipykernel)",
   "language": "python",
   "name": "python3"
  },
  "language_info": {
   "codemirror_mode": {
    "name": "ipython",
    "version": 3
   },
   "file_extension": ".py",
   "mimetype": "text/x-python",
   "name": "python",
   "nbconvert_exporter": "python",
   "pygments_lexer": "ipython3",
   "version": "3.9.9"
  }
 },
 "nbformat": 4,
 "nbformat_minor": 5
}
