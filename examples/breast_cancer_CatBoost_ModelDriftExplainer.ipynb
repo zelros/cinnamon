{
 "cells": [
  {
   "cell_type": "markdown",
   "id": "c9282a05",
   "metadata": {},
   "source": [
    "The experiment is done with a random split so we should not detect a data drift"
   ]
  },
  {
   "cell_type": "code",
   "execution_count": null,
   "id": "da27f578",
   "metadata": {},
   "outputs": [],
   "source": [
    "import pandas as pd\n",
    "import numpy as np\n",
    "from sklearn import datasets\n",
    "from sklearn.model_selection import train_test_split\n",
    "from catboost import CatBoostClassifier, Pool\n",
    "\n",
    "import cinnamon\n",
    "from cinnamon.drift import ModelDriftExplainer"
   ]
  },
  {
   "cell_type": "markdown",
   "id": "2e16e864",
   "metadata": {},
   "source": [
    "# Breast Cancer Data"
   ]
  },
  {
   "cell_type": "code",
   "execution_count": null,
   "id": "f582c773",
   "metadata": {},
   "outputs": [],
   "source": [
    "dataset = datasets.load_breast_cancer()"
   ]
  },
  {
   "cell_type": "code",
   "execution_count": null,
   "id": "b20301d9",
   "metadata": {},
   "outputs": [],
   "source": [
    "X = pd.DataFrame(dataset.data, columns = dataset.feature_names)\n",
    "y = dataset.target"
   ]
  },
  {
   "cell_type": "code",
   "execution_count": null,
   "id": "df4a4c87",
   "metadata": {},
   "outputs": [],
   "source": [
    "X.head()"
   ]
  },
  {
   "cell_type": "markdown",
   "id": "a6ea631c",
   "metadata": {},
   "source": [
    "# Build CatBoost model"
   ]
  },
  {
   "cell_type": "code",
   "execution_count": null,
   "id": "cbf5e852",
   "metadata": {},
   "outputs": [],
   "source": [
    "X_train, X_test, y_train, y_test = train_test_split(X, y, test_size=0.3, random_state=2021)"
   ]
  },
  {
   "cell_type": "code",
   "execution_count": null,
   "id": "60c94965",
   "metadata": {},
   "outputs": [],
   "source": [
    "clf = CatBoostClassifier(loss_function='Logloss',\n",
    "                         learning_rate=0.1,\n",
    "                         iterations=1000,\n",
    "                         max_depth=6,\n",
    "                         early_stopping_rounds=20,\n",
    "                         random_seed=2021,\n",
    "                         verbose=False\n",
    "                        )"
   ]
  },
  {
   "cell_type": "code",
   "execution_count": null,
   "id": "b55c669b",
   "metadata": {},
   "outputs": [],
   "source": [
    "clf.fit(X=Pool(X_train, y_train), eval_set=Pool(X_test, y_test))"
   ]
  },
  {
   "cell_type": "code",
   "execution_count": null,
   "id": "57797a5f",
   "metadata": {},
   "outputs": [],
   "source": [
    "drift_explainer = ModelDriftExplainer(clf)\n",
    "drift_explainer.fit(X1=X_train, X2=X_test, y1=y_train, y2=y_test)"
   ]
  },
  {
   "cell_type": "code",
   "execution_count": null,
   "id": "5917d285",
   "metadata": {},
   "outputs": [],
   "source": [
    "cinnamon.plot_prediction_drift(drift_explainer)"
   ]
  },
  {
   "cell_type": "code",
   "execution_count": null,
   "id": "b7ab4a61",
   "metadata": {},
   "outputs": [],
   "source": [
    "drift_explainer.get_prediction_drift()"
   ]
  },
  {
   "cell_type": "code",
   "execution_count": null,
   "id": "c62370f3",
   "metadata": {},
   "outputs": [],
   "source": [
    "cinnamon.plot_prediction_drift(drift_explainer, prediction_type='proba')\n",
    "drift_explainer.get_prediction_drift(prediction_type='proba')"
   ]
  },
  {
   "cell_type": "code",
   "execution_count": null,
   "id": "4394e9f6",
   "metadata": {},
   "outputs": [],
   "source": [
    "cinnamon.plot_prediction_drift(drift_explainer, prediction_type='class')\n",
    "drift_explainer.get_prediction_drift(prediction_type='class')"
   ]
  },
  {
   "cell_type": "code",
   "execution_count": null,
   "id": "d3c807cf",
   "metadata": {},
   "outputs": [],
   "source": [
    "cinnamon.plot_target_drift(drift_explainer)\n",
    "drift_explainer.get_target_drift()"
   ]
  },
  {
   "cell_type": "code",
   "execution_count": null,
   "id": "c3b79a7a",
   "metadata": {},
   "outputs": [],
   "source": [
    "drift_explainer.get_performance_metrics_drift()"
   ]
  },
  {
   "cell_type": "code",
   "execution_count": null,
   "id": "a617e7e4",
   "metadata": {},
   "outputs": [],
   "source": [
    "# plot drift importances computed with the tree based approach\n",
    "cinnamon.plot_tree_based_drift_importances(drift_explainer, type='mean')"
   ]
  },
  {
   "cell_type": "code",
   "execution_count": null,
   "id": "1c107b53",
   "metadata": {},
   "outputs": [],
   "source": [
    "drift_explainer.get_tree_based_drift_importances(type='mean')"
   ]
  },
  {
   "cell_type": "code",
   "execution_count": null,
   "id": "263abf08",
   "metadata": {},
   "outputs": [],
   "source": [
    "# plot drift importances computed with the model agnostic approach\n",
    "# results can be inconsistent with results from the tree based approach since\n",
    "# there is no significant drift here (random split)\n",
    "cinnamon.plot_model_agnostic_drift_importances(drift_explainer, type='mean')\n",
    "drift_explainer.get_model_agnostic_drift_importances(type='mean')"
   ]
  },
  {
   "cell_type": "code",
   "execution_count": null,
   "id": "cd1d70cd",
   "metadata": {},
   "outputs": [],
   "source": [
    "drift_explainer.get_model_agnostic_drift_importances(type='mean')"
   ]
  },
  {
   "cell_type": "code",
   "execution_count": null,
   "id": "7354662a",
   "metadata": {},
   "outputs": [],
   "source": [
    "# plot drift importances computed with the model agnostic approach\n",
    "# results can be inconsistent with results from the tree based approach since\n",
    "# there is no significant drift here (random split)\n",
    "cinnamon.plot_model_agnostic_drift_importances(drift_explainer, type='mean')"
   ]
  },
  {
   "cell_type": "code",
   "execution_count": null,
   "id": "e6111be0",
   "metadata": {},
   "outputs": [],
   "source": [
    "cinnamon.plot_feature_drift(drift_explainer, 'mean texture')\n",
    "drift_explainer.get_feature_drift('mean texture')"
   ]
  },
  {
   "cell_type": "code",
   "execution_count": null,
   "id": "a391200a",
   "metadata": {
    "scrolled": false
   },
   "outputs": [],
   "source": [
    "cinnamon.plot_feature_drift(drift_explainer, 0)"
   ]
  },
  {
   "cell_type": "code",
   "execution_count": null,
   "id": "7209b9b8",
   "metadata": {},
   "outputs": [],
   "source": [
    "drift_explainer.get_feature_drifts()"
   ]
  },
  {
   "cell_type": "code",
   "execution_count": null,
   "id": "47d2aca7",
   "metadata": {},
   "outputs": [],
   "source": []
  },
  {
   "cell_type": "code",
   "execution_count": null,
   "id": "99a4ffc3",
   "metadata": {},
   "outputs": [],
   "source": []
  }
 ],
 "metadata": {
  "kernelspec": {
   "display_name": "Python 3 (ipykernel)",
   "language": "python",
   "name": "python3"
  },
  "language_info": {
   "codemirror_mode": {
    "name": "ipython",
    "version": 3
   },
   "file_extension": ".py",
   "mimetype": "text/x-python",
   "name": "python",
   "nbconvert_exporter": "python",
   "pygments_lexer": "ipython3",
   "version": "3.9.12"
  }
 },
 "nbformat": 4,
 "nbformat_minor": 5
}
