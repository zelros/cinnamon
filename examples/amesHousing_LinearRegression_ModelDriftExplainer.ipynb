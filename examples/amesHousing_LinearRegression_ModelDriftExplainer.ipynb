{
 "cells": [
  {
   "cell_type": "code",
   "execution_count": null,
   "id": "52e27f10",
   "metadata": {},
   "outputs": [],
   "source": [
    "import pandas as pd\n",
    "from sklearn import datasets\n",
    "from sklearn.model_selection import train_test_split\n",
    "from sklearn.linear_model import LinearRegression\n",
    "from sklearn.datasets import fetch_openml\n",
    "from sklearn.compose import make_column_selector as selector, ColumnTransformer\n",
    "from sklearn.preprocessing import OneHotEncoder\n",
    "from sklearn.pipeline import make_pipeline\n",
    "\n",
    "import cinnamon\n",
    "from cinnamon.drift import ModelDriftExplainer\n",
    "\n",
    "RANDOM_SEED = 2021"
   ]
  },
  {
   "cell_type": "markdown",
   "id": "77b0c4b7",
   "metadata": {},
   "source": [
    "# Housing Data"
   ]
  },
  {
   "cell_type": "code",
   "execution_count": null,
   "id": "64eedb64",
   "metadata": {},
   "outputs": [],
   "source": [
    "#import os, ssl\n",
    "#if (not os.environ.get('PYTHONHTTPSVERIFY', '') and\n",
    "#    getattr(ssl, '_create_unverified_context', None)): \n",
    "#    ssl._create_default_https_context = ssl._create_unverified_context"
   ]
  },
  {
   "cell_type": "markdown",
   "id": "bbfd093d",
   "metadata": {},
   "source": [
    "If you run into a SSL certificate error executing this cell, uncommenting and running the above cell should solve the problem\n",
    "see https://github.com/scikit-learn/scikit-learn/issues/10201#issuecomment-365734582 "
   ]
  },
  {
   "cell_type": "code",
   "execution_count": null,
   "id": "48ade0e8",
   "metadata": {},
   "outputs": [],
   "source": [
    "ames_housing = fetch_openml(name=\"house_prices\", as_frame=True)"
   ]
  },
  {
   "cell_type": "code",
   "execution_count": null,
   "id": "bf8e532f",
   "metadata": {},
   "outputs": [],
   "source": [
    "ames_housing_df = pd.DataFrame(data=ames_housing.data, columns=ames_housing.feature_names)"
   ]
  },
  {
   "cell_type": "code",
   "execution_count": null,
   "id": "69cc9a6e",
   "metadata": {},
   "outputs": [],
   "source": [
    "print(ames_housing_df.shape)\n",
    "ames_housing_df.head()"
   ]
  },
  {
   "cell_type": "code",
   "execution_count": null,
   "id": "694602fd",
   "metadata": {},
   "outputs": [],
   "source": [
    "ames_housing_df.dtypes"
   ]
  },
  {
   "cell_type": "code",
   "execution_count": null,
   "id": "6d783e4c",
   "metadata": {},
   "outputs": [],
   "source": [
    "# drop columns with missing values\n",
    "dropped_columns = ames_housing_df.columns[ames_housing_df.isnull().sum(axis=0) > 0]\n",
    "dropped_columns"
   ]
  },
  {
   "cell_type": "code",
   "execution_count": null,
   "id": "452fed08",
   "metadata": {},
   "outputs": [],
   "source": [
    "ames_housing_df.drop(dropped_columns, axis=1, inplace=True)"
   ]
  },
  {
   "cell_type": "code",
   "execution_count": null,
   "id": "1383192f",
   "metadata": {},
   "outputs": [],
   "source": [
    "ames_housing_df.apply(lambda x: len(x.value_counts()), axis=0)"
   ]
  },
  {
   "cell_type": "code",
   "execution_count": null,
   "id": "00decd5c",
   "metadata": {},
   "outputs": [],
   "source": [
    "# use one hot encoding to preprocess the categorical columms\n",
    "categorical_columns_selector = selector(dtype_include=object)\n",
    "categorical_columns = categorical_columns_selector(ames_housing_df)\n",
    "\n",
    "preprocessor = ColumnTransformer([\n",
    "    ('one-hot-encoder', OneHotEncoder(handle_unknown=\"ignore\"), categorical_columns),\n",
    "])"
   ]
  },
  {
   "cell_type": "code",
   "execution_count": null,
   "id": "53d555c5",
   "metadata": {},
   "outputs": [],
   "source": [
    "cat_feature_indices = [ames_housing_df.columns.to_list().index(name) for name in categorical_columns] "
   ]
  },
  {
   "cell_type": "markdown",
   "id": "a890efc5",
   "metadata": {},
   "source": [
    "# Build linear model pipeline "
   ]
  },
  {
   "cell_type": "code",
   "execution_count": null,
   "id": "b950476c",
   "metadata": {},
   "outputs": [],
   "source": [
    "X_train, X_test, y_train, y_test = train_test_split(ames_housing_df, ames_housing.target, test_size=0.3, random_state=RANDOM_SEED)"
   ]
  },
  {
   "cell_type": "code",
   "execution_count": null,
   "id": "d3cd6668",
   "metadata": {},
   "outputs": [],
   "source": [
    "# use one hot encoding to preprocess the categorical columms\n",
    "categorical_columns_selector = selector(dtype_include=object)\n",
    "categorical_columns = categorical_columns_selector(ames_housing_df)\n",
    "\n",
    "preprocessor = ColumnTransformer([\n",
    "    ('one-hot-encoder', OneHotEncoder(handle_unknown=\"ignore\"), categorical_columns),\n",
    "])\n",
    "\n",
    "pipe = make_pipeline(preprocessor, LinearRegression())"
   ]
  },
  {
   "cell_type": "code",
   "execution_count": null,
   "id": "4f6d0ca3",
   "metadata": {},
   "outputs": [],
   "source": [
    "pipe.fit(X=X_train, y=y_train)"
   ]
  },
  {
   "cell_type": "markdown",
   "id": "23174b96",
   "metadata": {},
   "source": [
    "# ModelDriftExplainer\n",
    "\n",
    "The experiment is done with a random split so we should not detect a data drift"
   ]
  },
  {
   "cell_type": "code",
   "execution_count": null,
   "id": "10f62e94",
   "metadata": {},
   "outputs": [],
   "source": [
    "# CinnaMon can support regression pipeline if the pipe.predict method is implemented\n",
    "drift_explainer = ModelDriftExplainer(pipe, task='regression')"
   ]
  },
  {
   "cell_type": "code",
   "execution_count": null,
   "id": "790420be",
   "metadata": {},
   "outputs": [],
   "source": [
    "cat_feature_indices = [ames_housing_df.columns.to_list().index(name) for name in categorical_columns] \n",
    "drift_explainer.fit(X_train, X_test, y_train, y_test, cat_feature_indices=cat_feature_indices)"
   ]
  },
  {
   "cell_type": "code",
   "execution_count": null,
   "id": "4b9103c0",
   "metadata": {},
   "outputs": [],
   "source": [
    "# no apparent drift in distributions of predictions\n",
    "cinnamon.plot_prediction_drift(drift_explainer)\n",
    "drift_explainer.get_prediction_drift()"
   ]
  },
  {
   "cell_type": "code",
   "execution_count": null,
   "id": "fc1fb0e0",
   "metadata": {},
   "outputs": [],
   "source": [
    "# no apparent drift in distributions of target labels\n",
    "cinnamon.plot_target_drift(drift_explainer)\n",
    "drift_explainer.get_target_drift()"
   ]
  },
  {
   "cell_type": "code",
   "execution_count": null,
   "id": "fff895fb",
   "metadata": {},
   "outputs": [],
   "source": [
    "# here we would detect a data drift but in fact the difference in performance metrics\n",
    "# is due to comparing train and test dataset\n",
    "drift_explainer.get_performance_metrics_drift()"
   ]
  },
  {
   "cell_type": "code",
   "execution_count": null,
   "id": "93a40e55",
   "metadata": {
    "scrolled": false
   },
   "outputs": [],
   "source": [
    "# plot drift importances computed with the model agnostic approach\n",
    "cinnamon.plot_model_agnostic_drift_importances(drift_explainer, type='wasserstein', n=40)\n",
    "drift_explainer.get_model_agnostic_drift_importances(type='wasserstein')"
   ]
  },
  {
   "cell_type": "code",
   "execution_count": null,
   "id": "44a5e597",
   "metadata": {},
   "outputs": [],
   "source": [
    "drift_explainer.get_feature_drift(0)"
   ]
  },
  {
   "cell_type": "code",
   "execution_count": null,
   "id": "0e895cfa",
   "metadata": {},
   "outputs": [],
   "source": [
    "drift_explainer.get_feature_drifts()"
   ]
  },
  {
   "cell_type": "code",
   "execution_count": null,
   "id": "aca843b1",
   "metadata": {},
   "outputs": [],
   "source": []
  }
 ],
 "metadata": {
  "kernelspec": {
   "display_name": "Python 3 (ipykernel)",
   "language": "python",
   "name": "python3"
  },
  "language_info": {
   "codemirror_mode": {
    "name": "ipython",
    "version": 3
   },
   "file_extension": ".py",
   "mimetype": "text/x-python",
   "name": "python",
   "nbconvert_exporter": "python",
   "pygments_lexer": "ipython3",
   "version": "3.9.12"
  }
 },
 "nbformat": 4,
 "nbformat_minor": 5
}
