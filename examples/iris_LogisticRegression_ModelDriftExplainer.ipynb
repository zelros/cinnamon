{
 "cells": [
  {
   "cell_type": "code",
   "execution_count": null,
   "id": "ba5dfdb1",
   "metadata": {},
   "outputs": [],
   "source": [
    "import pandas as pd\n",
    "import numpy as np\n",
    "from sklearn import datasets\n",
    "from sklearn.model_selection import train_test_split\n",
    "from sklearn.linear_model import LogisticRegression\n",
    "\n",
    "import cinnamon\n",
    "from cinnamon.drift import ModelDriftExplainer"
   ]
  },
  {
   "cell_type": "markdown",
   "id": "2e16e864",
   "metadata": {},
   "source": [
    "# Iris Data"
   ]
  },
  {
   "cell_type": "code",
   "execution_count": null,
   "id": "f582c773",
   "metadata": {},
   "outputs": [],
   "source": [
    "dataset = datasets.load_iris()"
   ]
  },
  {
   "cell_type": "code",
   "execution_count": null,
   "id": "b20301d9",
   "metadata": {},
   "outputs": [],
   "source": [
    "X = pd.DataFrame(dataset.data, columns = dataset.feature_names)\n",
    "y = dataset.target"
   ]
  },
  {
   "cell_type": "code",
   "execution_count": null,
   "id": "df4a4c87",
   "metadata": {},
   "outputs": [],
   "source": [
    "X.head()"
   ]
  },
  {
   "cell_type": "code",
   "execution_count": null,
   "id": "e69c4f3c",
   "metadata": {},
   "outputs": [],
   "source": [
    "# This is multiclass classification pbm with 3 classes\n",
    "np.unique(y, return_counts=True)"
   ]
  },
  {
   "cell_type": "markdown",
   "id": "a6ea631c",
   "metadata": {},
   "source": [
    "# Build Logistic Regression model"
   ]
  },
  {
   "cell_type": "code",
   "execution_count": null,
   "id": "cbf5e852",
   "metadata": {},
   "outputs": [],
   "source": [
    "X_train, X_test, y_train, y_test = train_test_split(X, y, test_size=0.3, random_state=2021)"
   ]
  },
  {
   "cell_type": "code",
   "execution_count": null,
   "id": "1ac2cbc2",
   "metadata": {},
   "outputs": [],
   "source": [
    "clf = LogisticRegression(max_iter=1000)"
   ]
  },
  {
   "cell_type": "code",
   "execution_count": null,
   "id": "8001d44d",
   "metadata": {},
   "outputs": [],
   "source": [
    "clf.fit(X=X_train, y=y_train)"
   ]
  },
  {
   "cell_type": "markdown",
   "id": "2042fc37",
   "metadata": {},
   "source": [
    "# Analyze data drift with ModelDriftExplainer\n",
    "\n",
    "The experiment is done with a random split so we should not detect a data drift"
   ]
  },
  {
   "cell_type": "code",
   "execution_count": null,
   "id": "a0b2739b",
   "metadata": {},
   "outputs": [],
   "source": [
    "# There is no specific parser in CinnaMon for scikit learn LogisticRegression, but the model can be treated as as blackbox\n",
    "# with model agnosticf methods. To do so, \"task\" parameter should be provided to ModelDriftExplainer.\n",
    "drift_explainer = ModelDriftExplainer(clf, task='classification')"
   ]
  },
  {
   "cell_type": "code",
   "execution_count": null,
   "id": "89a3fef8",
   "metadata": {},
   "outputs": [],
   "source": [
    "drift_explainer.fit(X1=X_train, X2=X_test, y1=y_train, y2=y_test)"
   ]
  },
  {
   "cell_type": "code",
   "execution_count": null,
   "id": "84b01f28",
   "metadata": {},
   "outputs": [],
   "source": [
    "# no apparent drift in distributions of predicted probabilities\n",
    "cinnamon.plot_prediction_drift(drift_explainer, prediction_type='raw')\n",
    "drift_explainer.get_prediction_drift(prediction_type='raw')"
   ]
  },
  {
   "cell_type": "code",
   "execution_count": null,
   "id": "d1f7d044",
   "metadata": {},
   "outputs": [],
   "source": [
    "drift_explainer.get_target_drift()"
   ]
  },
  {
   "cell_type": "code",
   "execution_count": null,
   "id": "5c430f2f",
   "metadata": {},
   "outputs": [],
   "source": [
    "# no apparent drift in distributions of target labels\n",
    "cinnamon.plot_target_drift(drift_explainer)\n",
    "drift_explainer.get_target_drift()"
   ]
  },
  {
   "cell_type": "code",
   "execution_count": null,
   "id": "d4160ab1",
   "metadata": {},
   "outputs": [],
   "source": [
    "# plot drift values computed with the tree based approach (only for demonstration\n",
    "# purpose since there is no data drift)\n",
    "cinnamon.plot_model_agnostic_drift_values(drift_explainer, type='mean')\n",
    "drift_explainer.get_model_agnostic_drift_values(type='mean')"
   ]
  },
  {
   "cell_type": "code",
   "execution_count": null,
   "id": "ec801170",
   "metadata": {
    "pycharm": {
     "name": "#%%\n"
    }
   },
   "outputs": [],
   "source": [
    "drift_explainer.get_feature_drifts()"
   ]
  },
  {
   "cell_type": "code",
   "execution_count": null,
   "id": "9d86c3a8",
   "metadata": {},
   "outputs": [],
   "source": []
  }
 ],
 "metadata": {
  "kernelspec": {
   "display_name": "Python 3 (ipykernel)",
   "language": "python",
   "name": "python3"
  },
  "language_info": {
   "codemirror_mode": {
    "name": "ipython",
    "version": 3
   },
   "file_extension": ".py",
   "mimetype": "text/x-python",
   "name": "python",
   "nbconvert_exporter": "python",
   "pygments_lexer": "ipython3",
   "version": "3.9.12"
  }
 },
 "nbformat": 4,
 "nbformat_minor": 5
}
