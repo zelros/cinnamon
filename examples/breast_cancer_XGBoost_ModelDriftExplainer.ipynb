{
 "cells": [
  {
   "cell_type": "code",
   "execution_count": null,
   "id": "da27f578",
   "metadata": {},
   "outputs": [],
   "source": [
    "import pandas as pd\n",
    "from sklearn import datasets\n",
    "from sklearn.model_selection import train_test_split\n",
    "from xgboost import XGBClassifier\n",
    "import xgboost as xgb\n",
    "\n",
    "from cinnamon.drift import ModelDriftExplainer"
   ]
  },
  {
   "cell_type": "markdown",
   "id": "2e16e864",
   "metadata": {},
   "source": [
    "# Breast Cancer Data"
   ]
  },
  {
   "cell_type": "code",
   "execution_count": null,
   "id": "f582c773",
   "metadata": {},
   "outputs": [],
   "source": [
    "dataset = datasets.load_breast_cancer()"
   ]
  },
  {
   "cell_type": "code",
   "execution_count": null,
   "id": "b20301d9",
   "metadata": {},
   "outputs": [],
   "source": [
    "X = pd.DataFrame(dataset.data, columns = dataset.feature_names)\n",
    "y = dataset.target"
   ]
  },
  {
   "cell_type": "code",
   "execution_count": null,
   "id": "df4a4c87",
   "metadata": {},
   "outputs": [],
   "source": [
    "X.head()"
   ]
  },
  {
   "cell_type": "markdown",
   "id": "a6ea631c",
   "metadata": {},
   "source": [
    "# Build XGBoost model"
   ]
  },
  {
   "cell_type": "code",
   "execution_count": null,
   "id": "cbf5e852",
   "metadata": {},
   "outputs": [],
   "source": [
    "X_train, X_test, y_train, y_test = train_test_split(X, y, test_size=0.3, random_state=2021)"
   ]
  },
  {
   "cell_type": "code",
   "execution_count": null,
   "id": "9be4d156",
   "metadata": {},
   "outputs": [],
   "source": [
    "clf = XGBClassifier(n_estimators=1000,\n",
    "                    booster=\"gbtree\",\n",
    "                    objective=\"binary:logistic\",\n",
    "                    learning_rate=0.05,\n",
    "                    max_depth=6,\n",
    "                    use_label_encoder=False,\n",
    "                    seed=2021)"
   ]
  },
  {
   "cell_type": "code",
   "execution_count": null,
   "id": "8001d44d",
   "metadata": {},
   "outputs": [],
   "source": [
    "clf.fit(X=X_train, y=y_train, eval_set=[(X_test, y_test)], early_stopping_rounds=20, verbose=10)"
   ]
  },
  {
   "cell_type": "markdown",
   "id": "7b265d66",
   "metadata": {},
   "source": [
    "# Analyze data drift with ModelDriftExplainer\n",
    "\n",
    "The experiment is done with a random split so we should not detect a data drift"
   ]
  },
  {
   "cell_type": "code",
   "execution_count": null,
   "id": "74f9b603",
   "metadata": {},
   "outputs": [],
   "source": [
    "drift_explainer = ModelDriftExplainer(clf)"
   ]
  },
  {
   "cell_type": "code",
   "execution_count": null,
   "id": "e148cd59",
   "metadata": {},
   "outputs": [],
   "source": [
    "drift_explainer.fit(X1=X_train, X2=X_test, y1=y_train, y2=y_test)"
   ]
  },
  {
   "cell_type": "code",
   "execution_count": null,
   "id": "6f5d7abb",
   "metadata": {},
   "outputs": [],
   "source": [
    "# no apparent drift in distributions of logit predictions\n",
    "drift_explainer.plot_prediction_drift()\n",
    "drift_explainer.get_prediction_drift()"
   ]
  },
  {
   "cell_type": "code",
   "execution_count": null,
   "id": "749dc497",
   "metadata": {},
   "outputs": [],
   "source": [
    "# same thing for distributions of predicted probabilities\n",
    "drift_explainer.plot_prediction_drift(prediction_type='proba')\n",
    "drift_explainer.get_prediction_drift(prediction_type='proba')"
   ]
  },
  {
   "cell_type": "code",
   "execution_count": null,
   "id": "4c59d7a5",
   "metadata": {},
   "outputs": [],
   "source": [
    "# same thing for distributions of predicted classes\n",
    "drift_explainer.plot_prediction_drift(prediction_type='class')\n",
    "drift_explainer.get_prediction_drift(prediction_type='class')"
   ]
  },
  {
   "cell_type": "code",
   "execution_count": null,
   "id": "f7a30dda",
   "metadata": {},
   "outputs": [],
   "source": [
    "# no apparent drift in distributions of target labels\n",
    "drift_explainer.plot_target_drift()\n",
    "drift_explainer.get_target_drift()"
   ]
  },
  {
   "cell_type": "code",
   "execution_count": null,
   "id": "e71945db",
   "metadata": {},
   "outputs": [],
   "source": [
    "drift_explainer.get_performance_metrics_drift()"
   ]
  },
  {
   "cell_type": "code",
   "execution_count": null,
   "id": "efd1ae0e",
   "metadata": {
    "scrolled": false
   },
   "outputs": [],
   "source": [
    "# plot drift values computed with the tree based approach (only for demonstration\n",
    "# purpose since there is no data drift)\n",
    "drift_explainer.plot_tree_based_drift_values(type='node_size')"
   ]
  },
  {
   "cell_type": "code",
   "execution_count": null,
   "id": "60518cba",
   "metadata": {
    "scrolled": false
   },
   "outputs": [],
   "source": [
    "# drift values with the tree based approach\n",
    "drift_explainer.get_tree_based_drift_values(type='node_size')"
   ]
  },
  {
   "cell_type": "code",
   "execution_count": null,
   "id": "09d28233",
   "metadata": {
    "scrolled": false
   },
   "outputs": [],
   "source": [
    "# plot drift values for type='mean_norm'\n",
    "drift_explainer.plot_tree_based_drift_values(type='mean_norm')"
   ]
  },
  {
   "cell_type": "code",
   "execution_count": null,
   "id": "2770f92f",
   "metadata": {
    "scrolled": true
   },
   "outputs": [],
   "source": [
    "drift_explainer.get_tree_based_drift_values(type='mean_norm')"
   ]
  },
  {
   "cell_type": "code",
   "execution_count": null,
   "id": "0bb76a63",
   "metadata": {},
   "outputs": [],
   "source": [
    "# plot drift values computed with the model agnostic approach (only for demonstration\n",
    "# purpose since there is no data drift)\n",
    "drift_explainer.plot_model_agnostic_drift_values(type='mean')\n",
    "drift_explainer.get_model_agnostic_drift_values(type='mean')"
   ]
  },
  {
   "cell_type": "code",
   "execution_count": null,
   "id": "f079c170",
   "metadata": {},
   "outputs": [],
   "source": [
    "drift_explainer.plot_feature_drift('mean perimeter')\n",
    "drift_explainer.get_feature_drift('mean perimeter')"
   ]
  },
  {
   "cell_type": "code",
   "execution_count": null,
   "id": "9692db09",
   "metadata": {},
   "outputs": [],
   "source": [
    "drift_explainer.plot_feature_drift(4)\n",
    "drift_explainer.get_feature_drift(4)"
   ]
  },
  {
   "cell_type": "code",
   "execution_count": null,
   "id": "a890b9d8",
   "metadata": {
    "scrolled": true
   },
   "outputs": [],
   "source": [
    "drift_explainer.get_feature_drifts()"
   ]
  },
  {
   "cell_type": "code",
   "execution_count": null,
   "id": "48ce3836",
   "metadata": {},
   "outputs": [],
   "source": []
  }
 ],
 "metadata": {
  "kernelspec": {
   "display_name": "Python 3 (ipykernel)",
   "language": "python",
   "name": "python3"
  },
  "language_info": {
   "codemirror_mode": {
    "name": "ipython",
    "version": 3
   },
   "file_extension": ".py",
   "mimetype": "text/x-python",
   "name": "python",
   "nbconvert_exporter": "python",
   "pygments_lexer": "ipython3",
   "version": "3.9.12"
  }
 },
 "nbformat": 4,
 "nbformat_minor": 5
}
