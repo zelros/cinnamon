{
 "cells": [
  {
   "cell_type": "markdown",
   "id": "bfff3f51",
   "metadata": {},
   "source": [
    "The experiment is done with a random split so we should not detect a data drift"
   ]
  },
  {
   "cell_type": "code",
   "execution_count": null,
   "id": "52e27f10",
   "metadata": {},
   "outputs": [],
   "source": [
    "import pandas as pd\n",
    "from sklearn import datasets\n",
    "from sklearn.model_selection import train_test_split\n",
    "from catboost import CatBoostRegressor\n",
    "\n",
    "import cinnamon\n",
    "from cinnamon.drift import ModelDriftExplainer"
   ]
  },
  {
   "cell_type": "markdown",
   "id": "77b0c4b7",
   "metadata": {},
   "source": [
    "# Boston Data"
   ]
  },
  {
   "cell_type": "code",
   "execution_count": null,
   "id": "1ac4bce2",
   "metadata": {},
   "outputs": [],
   "source": [
    "boston = datasets.load_boston()"
   ]
  },
  {
   "cell_type": "code",
   "execution_count": null,
   "id": "68e500b2",
   "metadata": {},
   "outputs": [],
   "source": [
    "boston_df = pd.DataFrame(boston.data, columns = boston.feature_names)"
   ]
  },
  {
   "cell_type": "code",
   "execution_count": null,
   "id": "1e3f78a4",
   "metadata": {},
   "outputs": [],
   "source": [
    "boston_df.head()"
   ]
  },
  {
   "cell_type": "markdown",
   "id": "a890efc5",
   "metadata": {},
   "source": [
    "# Build CatBoost model"
   ]
  },
  {
   "cell_type": "code",
   "execution_count": null,
   "id": "b950476c",
   "metadata": {},
   "outputs": [],
   "source": [
    "X_train, X_test, y_train, y_test = train_test_split(boston_df, boston.target, test_size=0.3, random_state=2021)"
   ]
  },
  {
   "cell_type": "code",
   "execution_count": null,
   "id": "621aa207",
   "metadata": {},
   "outputs": [],
   "source": [
    "model = CatBoostRegressor(loss_function='RMSE',\n",
    "                         learning_rate=0.1,\n",
    "                         iterations=1000,\n",
    "                         max_depth=6,\n",
    "                         early_stopping_rounds=20,\n",
    "                         random_seed=2021,\n",
    "                         verbose=10\n",
    "                       )"
   ]
  },
  {
   "cell_type": "code",
   "execution_count": null,
   "id": "4f6d0ca3",
   "metadata": {},
   "outputs": [],
   "source": [
    "model.fit(X=X_train, y=y_train, eval_set=[(X_test, y_test)])"
   ]
  },
  {
   "cell_type": "markdown",
   "id": "9071a255",
   "metadata": {},
   "source": [
    "# Analyze data drift with ModelDriftExplainer"
   ]
  },
  {
   "cell_type": "code",
   "execution_count": null,
   "id": "5cd0feda",
   "metadata": {},
   "outputs": [],
   "source": [
    "drift_explainer = ModelDriftExplainer(model)\n",
    "drift_explainer.fit(X1=X_train, X2=X_test, y1=y_train, y2=y_test)"
   ]
  },
  {
   "cell_type": "code",
   "execution_count": null,
   "id": "b317faab",
   "metadata": {},
   "outputs": [],
   "source": [
    "cinnamon.plot_prediction_drift(drift_explainer)\n",
    "drift_explainer.get_prediction_drift()"
   ]
  },
  {
   "cell_type": "code",
   "execution_count": null,
   "id": "5afccb92",
   "metadata": {},
   "outputs": [],
   "source": [
    "cinnamon.plot_target_drift(drift_explainer)\n",
    "drift_explainer.get_target_drift()"
   ]
  },
  {
   "cell_type": "code",
   "execution_count": null,
   "id": "633a3f47",
   "metadata": {},
   "outputs": [],
   "source": [
    "drift_explainer.get_performance_metrics_drift()"
   ]
  },
  {
   "cell_type": "code",
   "execution_count": null,
   "id": "858ac743",
   "metadata": {},
   "outputs": [],
   "source": [
    "# plot drift values computed with the tree based approach\n",
    "cinnamon.plot_tree_based_drift_importances(drift_explainer, type='node_size')"
   ]
  },
  {
   "cell_type": "code",
   "execution_count": null,
   "id": "a3bf92e1",
   "metadata": {},
   "outputs": [],
   "source": [
    "drift_explainer.get_tree_based_drift_importances(type='mean')"
   ]
  },
  {
   "cell_type": "code",
   "execution_count": null,
   "id": "088dff9f",
   "metadata": {},
   "outputs": [],
   "source": [
    "# plot drift values computed with the model agnostic approach\n",
    "cinnamon.plot_model_agnostic_drift_importances(drift_explainer, type='mean')\n",
    "drift_explainer.get_model_agnostic_drift_importances(type='mean')"
   ]
  },
  {
   "cell_type": "code",
   "execution_count": null,
   "id": "1eb791b0",
   "metadata": {},
   "outputs": [],
   "source": [
    "cinnamon.plot_feature_drift(drift_explainer, 'LSTAT')\n",
    "drift_explainer.get_feature_drift('LSTAT')"
   ]
  },
  {
   "cell_type": "code",
   "execution_count": null,
   "id": "611ccc6f",
   "metadata": {},
   "outputs": [],
   "source": []
  }
 ],
 "metadata": {
  "kernelspec": {
   "display_name": "Python 3 (ipykernel)",
   "language": "python",
   "name": "python3"
  },
  "language_info": {
   "codemirror_mode": {
    "name": "ipython",
    "version": 3
   },
   "file_extension": ".py",
   "mimetype": "text/x-python",
   "name": "python",
   "nbconvert_exporter": "python",
   "pygments_lexer": "ipython3",
   "version": "3.9.12"
  }
 },
 "nbformat": 4,
 "nbformat_minor": 5
}
