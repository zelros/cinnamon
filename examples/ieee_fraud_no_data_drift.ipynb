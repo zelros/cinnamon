{
 "cells": [
  {
   "cell_type": "code",
   "execution_count": null,
   "id": "208fdfb6",
   "metadata": {},
   "outputs": [],
   "source": [
    "import pandas as pd\n",
    "import numpy as np\n",
    "from sklearn.model_selection import train_test_split\n",
    "from sklearn.metrics import log_loss, roc_auc_score, accuracy_score\n",
    "from xgboost import XGBClassifier\n",
    "\n",
    "import cinnamon\n",
    "from cinnamon.drift import ModelDriftExplainer\n",
    "\n",
    "# pandas config\n",
    "pd.set_option('display.max_columns', 500)\n",
    "pd.set_option('display.max_rows', 500)\n",
    "\n",
    "seed = 2021"
   ]
  },
  {
   "cell_type": "markdown",
   "id": "52e44e05",
   "metadata": {},
   "source": [
    "# IEEE fraud data"
   ]
  },
  {
   "cell_type": "markdown",
   "id": "89e02e80",
   "metadata": {},
   "source": [
    "Download data with kaggle CLI if it is setup on your computer:"
   ]
  },
  {
   "cell_type": "code",
   "execution_count": null,
   "id": "dd8d0059",
   "metadata": {},
   "outputs": [],
   "source": [
    "#!kaggle competitions download -c ieee-fraud-detection"
   ]
  },
  {
   "cell_type": "markdown",
   "id": "45b35398",
   "metadata": {},
   "source": [
    "Else you can download the data here: https://www.kaggle.com/c/ieee-fraud-detection/data, and you will have to accept the competition rules"
   ]
  },
  {
   "cell_type": "code",
   "execution_count": null,
   "id": "b491e5b8",
   "metadata": {},
   "outputs": [],
   "source": [
    "df = pd.read_csv('data/train_transaction.csv')"
   ]
  },
  {
   "cell_type": "code",
   "execution_count": null,
   "id": "aab1755d",
   "metadata": {},
   "outputs": [],
   "source": [
    "print(df.shape)"
   ]
  },
  {
   "cell_type": "markdown",
   "id": "867c99f4",
   "metadata": {},
   "source": [
    "# Preprocessing"
   ]
  },
  {
   "cell_type": "code",
   "execution_count": null,
   "id": "3f619582",
   "metadata": {},
   "outputs": [],
   "source": [
    "# count missing values per column\n",
    "missing_values = df.isnull().sum(axis=0)\n",
    "missing_values"
   ]
  },
  {
   "cell_type": "code",
   "execution_count": null,
   "id": "d9cf9f5b",
   "metadata": {},
   "outputs": [],
   "source": [
    "# keep only columns with less than 10000 values\n",
    "selected_columns = [col for col in df.columns if missing_values[col] < 10000]"
   ]
  },
  {
   "cell_type": "code",
   "execution_count": null,
   "id": "3ed0da88",
   "metadata": {},
   "outputs": [],
   "source": [
    "# in the resulting columns, drop rows with any missing value\n",
    "df = df[selected_columns].dropna(axis=0, how='any')"
   ]
  },
  {
   "cell_type": "code",
   "execution_count": null,
   "id": "e6d82f81",
   "metadata": {},
   "outputs": [],
   "source": [
    "# for the variable 'card6', keep only rows corresponding to 'debit' and 'credit'modalities\n",
    "df = df.loc[df['card6'].isin(['debit', 'credit']), :].copy()\n",
    "df['card6'] = (df['card6'] == 'credit') * 1"
   ]
  },
  {
   "cell_type": "code",
   "execution_count": null,
   "id": "b41bf6d3",
   "metadata": {},
   "outputs": [],
   "source": [
    "print(df.shape)\n",
    "df.head()"
   ]
  },
  {
   "cell_type": "markdown",
   "id": "d4cee357",
   "metadata": {},
   "source": [
    "# Sampling\n",
    "\n",
    "We replicate a typical production situation where we would have:\n",
    "- training data\n",
    "- test data\n",
    "- production data"
   ]
  },
  {
   "cell_type": "code",
   "execution_count": null,
   "id": "d39c8a54",
   "metadata": {},
   "outputs": [],
   "source": [
    "# select features by keeping only numerical features\n",
    "features = [col for col in df.columns if col not in ['TransactionID', 'isFraud', 'TransactionDT',\n",
    "                                                     'ProductCD', 'card4']]"
   ]
  },
  {
   "cell_type": "code",
   "execution_count": null,
   "id": "66601a4e",
   "metadata": {},
   "outputs": [],
   "source": [
    "# we do a time split (shuffle=False) to seperate between df_temp (train + test data) and df_prod (production data)\n",
    "df_temp, df_prod = train_test_split(df, test_size=0.25, shuffle=False, random_state=seed)"
   ]
  },
  {
   "cell_type": "code",
   "execution_count": null,
   "id": "8d97717e",
   "metadata": {},
   "outputs": [],
   "source": [
    "# we do a time split (shuffle=False) to seperate between training data and validation data\n",
    "X_train, X_test, y_train, y_test = train_test_split(df_temp[features], df_temp['isFraud'].values,\n",
    "                                                      test_size=1/3, shuffle=False, random_state=seed)"
   ]
  },
  {
   "cell_type": "code",
   "execution_count": null,
   "id": "30dd532d",
   "metadata": {},
   "outputs": [],
   "source": [
    "X_prod, y_prod = df_prod[features], df_prod['isFraud'].values"
   ]
  },
  {
   "cell_type": "markdown",
   "id": "1691addc",
   "metadata": {},
   "source": [
    "# Build model"
   ]
  },
  {
   "cell_type": "code",
   "execution_count": null,
   "id": "79c9db1f",
   "metadata": {},
   "outputs": [],
   "source": [
    "clf = XGBClassifier(n_estimators=1000,\n",
    "                    booster=\"gbtree\",\n",
    "                    objective=\"binary:logistic\",\n",
    "                    learning_rate=0.2,\n",
    "                    max_depth=6,\n",
    "                    use_label_encoder=False,\n",
    "                    seed=seed)"
   ]
  },
  {
   "cell_type": "code",
   "execution_count": null,
   "id": "bffd4f89",
   "metadata": {},
   "outputs": [],
   "source": [
    "clf.fit(X=X_train, y=y_train, eval_set=[(X_test, y_test)], early_stopping_rounds=20,\n",
    "        verbose=10, eval_metric=['auc', 'logloss'])"
   ]
  },
  {
   "cell_type": "markdown",
   "id": "d7de2113",
   "metadata": {},
   "source": [
    "# Detection of data drift\n",
    "\n",
    "We don not detect any data drift in the example below"
   ]
  },
  {
   "cell_type": "code",
   "execution_count": null,
   "id": "772cdb4a",
   "metadata": {},
   "outputs": [],
   "source": [
    "# initialize and fit a model drift explainer on valid and prod data\n",
    "drift_explainer = ModelDriftExplainer(clf)\n",
    "drift_explainer.fit(X1=X_test, X2=X_prod, y1=y_test, y2=y_prod)"
   ]
  },
  {
   "cell_type": "code",
   "execution_count": null,
   "id": "b68b066c",
   "metadata": {
    "scrolled": false
   },
   "outputs": [],
   "source": [
    "# no apparent drift in distribution of predictions\n",
    "cinnamon.plot_prediction_drift(drift_explainer, bins=100)\n",
    "drift_explainer.get_prediction_drift()"
   ]
  },
  {
   "cell_type": "code",
   "execution_count": null,
   "id": "bd9d9500",
   "metadata": {},
   "outputs": [],
   "source": [
    "# no apparent drift in distribution of target labels\n",
    "cinnamon.plot_target_drift(drift_explainer)\n",
    "drift_explainer.get_target_drift()"
   ]
  },
  {
   "cell_type": "code",
   "execution_count": null,
   "id": "1de3fb3d",
   "metadata": {},
   "outputs": [],
   "source": [
    "# no apparent drift in performance metrics\n",
    "print(f'log_loss test: {log_loss(y_test, clf.predict_proba(X_test))}')\n",
    "print(f'log_loss prod: {log_loss(y_prod, clf.predict_proba(X_prod))}')"
   ]
  },
  {
   "cell_type": "code",
   "execution_count": null,
   "id": "6b87f09d",
   "metadata": {},
   "outputs": [],
   "source": [
    "# data drift of feature 0 (first column)\n",
    "cinnamon.plot_feature_drift(drift_explainer, 0, bins=100)\n",
    "drift_explainer.get_feature_drift(0)"
   ]
  },
  {
   "cell_type": "code",
   "execution_count": null,
   "id": "b0b60eca",
   "metadata": {},
   "outputs": [],
   "source": [
    "cinnamon.plot_feature_drift(drift_explainer, 'card6', as_discrete=True)\n",
    "drift_explainer.get_feature_drift('card6')"
   ]
  },
  {
   "cell_type": "code",
   "execution_count": null,
   "id": "8b61ccf7",
   "metadata": {},
   "outputs": [],
   "source": []
  }
 ],
 "metadata": {
  "kernelspec": {
   "display_name": "Python 3 (ipykernel)",
   "language": "python",
   "name": "python3"
  },
  "language_info": {
   "codemirror_mode": {
    "name": "ipython",
    "version": 3
   },
   "file_extension": ".py",
   "mimetype": "text/x-python",
   "name": "python",
   "nbconvert_exporter": "python",
   "pygments_lexer": "ipython3",
   "version": "3.9.9"
  }
 },
 "nbformat": 4,
 "nbformat_minor": 5
}
